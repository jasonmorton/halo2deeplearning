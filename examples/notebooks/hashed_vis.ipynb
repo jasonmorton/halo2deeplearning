{
    "cells": [
        {
            "attachments": {},
            "cell_type": "markdown",
            "metadata": {},
            "source": [
                "# hashed-ezkl\n",
                "\n",
                "Here's an example leveraging EZKL whereby the inputs to the model, and the model params themselves, are hashed inside a circuit.\n",
                "\n",
                "In this setup:\n",
                "- the hashes are publicly known to the prover and verifier\n",
                "- the hashes serve as \"public inputs\" (a.k.a instances) to the circuit\n",
                "\n",
                "We leave the outputs of the model as public as well (known to the  verifier and prover). \n"
            ]
        },
        {
            "attachments": {},
            "cell_type": "markdown",
            "metadata": {},
            "source": [
                "First we import the necessary dependencies and set up logging to be as informative as possible. "
            ]
        },
        {
            "cell_type": "code",
            "execution_count": 1,
            "metadata": {},
            "outputs": [],
            "source": [
                "from torch import nn\n",
                "import ezkl\n",
                "import os\n",
                "import json\n",
                "import logging\n",
                "\n",
                "# uncomment for more descriptive logging \n",
                "FORMAT = '%(levelname)s %(name)s %(asctime)-15s %(filename)s:%(lineno)d %(message)s'\n",
                "logging.basicConfig(format=FORMAT)\n",
                "logging.getLogger().setLevel(logging.DEBUG)\n"
            ]
        },
        {
            "attachments": {},
            "cell_type": "markdown",
            "metadata": {},
            "source": [
                "Now we define our model. It is a humble model with but a conv layer and a $ReLU$ non-linearity, but it is a model nonetheless"
            ]
        },
        {
            "cell_type": "code",
            "execution_count": null,
            "metadata": {},
            "outputs": [],
            "source": [
                "import torch\n",
                "# Defines the model\n",
                "# we got convs, we got relu, \n",
                "# What else could one want ????\n",
                "\n",
                "class MyModel(nn.Module):\n",
                "    def __init__(self):\n",
                "        super(MyModel, self).__init__()\n",
                "\n",
                "        self.conv1 = nn.Conv2d(in_channels=3, out_channels=1, kernel_size=5, stride=4)\n",
                "        self.relu = nn.ReLU()\n",
                "\n",
                "    def forward(self, x):\n",
                "        x = self.conv1(x)\n",
                "        x = self.relu(x)\n",
                "\n",
                "        return x\n",
                "\n",
                "\n",
                "circuit = MyModel()\n",
                "\n",
                "# this is where you'd train your model\n",
                "\n",
                "\n"
            ]
        },
        {
            "attachments": {},
            "cell_type": "markdown",
            "metadata": {},
            "source": [
                "We omit training for purposes of this demonstration. We've marked where training would happen in the cell above. \n",
                "Now we export the model to onnx and create a corresponding (randomly generated) input file.\n",
                "\n",
                "You can replace the random `x` with real data if you so wish. "
            ]
        },
        {
            "cell_type": "code",
            "execution_count": null,
            "metadata": {},
            "outputs": [],
            "source": [
                "x = 0.1*torch.rand(1,*[3, 8, 8], requires_grad=True)\n",
                "\n",
                "# Flips the neural net into inference mode\n",
                "circuit.eval()\n",
                "\n",
                "    # Export the model\n",
                "torch.onnx.export(circuit,               # model being run\n",
                "                      x,                   # model input (or a tuple for multiple inputs)\n",
                "                      \"network.onnx\",            # where to save the model (can be a file or file-like object)\n",
                "                      export_params=True,        # store the trained parameter weights inside the model file\n",
                "                      opset_version=10,          # the ONNX version to export the model to\n",
                "                      do_constant_folding=True,  # whether to execute constant folding for optimization\n",
                "                      input_names = ['input'],   # the model's input names\n",
                "                      output_names = ['output'], # the model's output names\n",
                "                      dynamic_axes={'input' : {0 : 'batch_size'},    # variable length axes\n",
                "                                    'output' : {0 : 'batch_size'}})\n",
                "\n",
                "data_array = ((x).detach().numpy()).reshape([-1]).tolist()\n",
                "\n",
                "data = dict(input_data = [data_array])\n",
                "\n",
                "    # Serialize data into file:\n",
                "json.dump( data, open(\"input.json\", 'w' ))\n",
                "\n"
            ]
        },
        {
            "attachments": {},
            "cell_type": "markdown",
            "metadata": {},
            "source": [
                "This is where the magic happens. We define our `PyRunArgs` objects which contains the visibility parameters for out model. \n",
                "- `input_visibility` defines the visibility of the model inputs\n",
                "- `param_visibility` defines the visibility of the model weights and constants and parameters \n",
                "- `output_visibility` defines the visibility of the model outputs\n",
                "\n",
                "There are currently 4 visibility settings:\n",
                "- `public`: known to both the verifier and prover (a subtle nuance is that this may not be the case for model parameters but until we have more rigorous theoretical results we don't want to make strong claims as to this). \n",
                "- `private`: known only to the prover\n",
                "- `hashed`: the hash pre-image is known to the prover, the prover and verifier know the hash. The prover proves that the they know the pre-image to the hash. \n",
                "- `encrypted`: the non-encrypted element and the secret key used for decryption are known to the prover. The prover and the verifier know the encrypted element, the public key used to encrypt, and the hash of the decryption hey. The prover proves that they know the pre-image of the hashed decryption key and that this key can in fact decrypt the encrypted message.\n",
                "\n",
                "Here we create the following setup:\n",
                "- `input_visibility`: \"hashed\"\n",
                "- `param_visibility`: \"hashed\"\n",
                "- `output_visibility`: public\n",
                "\n",
                "We encourage you to play around with other setups :) \n",
                "\n",
                "Shoutouts: \n",
                "\n",
                "- [summa-solvency](https://github.com/summa-dev/summa-solvency) for their help with the poseidon hashing chip. \n",
                "- [timeofey](https://github.com/timoftime) for providing inspiration in our developement of the el-gamal encryption circuit in Halo2. "
            ]
        },
        {
            "cell_type": "code",
            "execution_count": 2,
            "metadata": {},
            "outputs": [],
            "source": [
                "import ezkl\n",
                "\n",
                "model_path = os.path.join('network.onnx')\n",
                "pk_path = os.path.join('test.pk')\n",
                "vk_path = os.path.join('test.vk')\n",
                "settings_path = os.path.join('settings.json')\n",
                "srs_path = os.path.join('kzg.srs')\n",
                "data_path = os.path.join('input.json')\n",
                "\n",
                "run_args = ezkl.PyRunArgs()\n",
                "run_args.input_visibility = \"hashed\"\n",
                "run_args.param_visibility = \"hashed\"\n",
                "run_args.output_visibility = \"public\"\n",
                "\n",
                "\n",
                "\n"
            ]
        },
        {
            "attachments": {},
            "cell_type": "markdown",
            "metadata": {},
            "source": [
                "Now we generate a settings file. This file basically instantiates a bunch of parameters that determine their circuit shape, size etc... Because of the way we represent nonlinearities in the circuit (using Halo2's [lookup tables](https://zcash.github.io/halo2/design/proving-system/lookup.html)), it is often best to _calibrate_ this settings file as some data can fall out of range of these lookups.\n",
                "\n",
                "You can pass a dataset for calibration that will be representative of real inputs you might find if and when you deploy the prover. Here we create a dummy calibration dataset for demonstration purposes. "
            ]
        },
        {
            "cell_type": "code",
            "execution_count": null,
            "metadata": {},
            "outputs": [],
            "source": [
                "!RUST_LOG=trace\n",
                "# TODO: Dictionary outputs\n",
                "res = ezkl.gen_settings(model_path, settings_path, py_run_args=run_args)\n",
                "assert res == True"
            ]
        },
        {
            "cell_type": "code",
            "execution_count": 7,
            "metadata": {},
            "outputs": [],
            "source": [
                "# generate a bunch of dummy calibration data\n",
                "cal_data = {\n",
                "    \"input_data\": [(0.1*torch.rand(40, *[3, 8, 8])).flatten().tolist()],\n",
                "}\n",
                "\n",
                "cal_path = os.path.join('val_data.json')\n",
                "# save as json file\n",
                "with open(cal_path, \"w\") as f:\n",
                "    json.dump(cal_data, f)\n",
                "\n",
                "res = await ezkl.calibrate_settings(cal_path, model_path, settings_path, \"resources\")"
            ]
        },
        {
            "attachments": {},
            "cell_type": "markdown",
            "metadata": {},
            "source": [
                "As we use Halo2 with KZG-commitments we need an SRS string from (preferably) a multi-party trusted setup ceremony. For an overview of the procedures for such a ceremony check out [this page](https://blog.ethereum.org/2023/01/16/announcing-kzg-ceremony). The `get_srs` command retrieves a correctly sized SRS given the calibrated settings file from [here](https://github.com/han0110/halo2-kzg-srs). \n",
                "\n",
                "These SRS were generated with [this](https://github.com/privacy-scaling-explorations/perpetualpowersoftau) ceremony. "
            ]
        },
        {
            "cell_type": "code",
            "execution_count": null,
            "metadata": {},
            "outputs": [],
            "source": [
                "res = ezkl.get_srs(srs_path, settings_path)\n"
            ]
        },
        {
            "attachments": {},
            "cell_type": "markdown",
            "metadata": {},
            "source": [
                "We now need to generate the (partial) circuit witness. These are the model outputs (and any hashes) that are generated when feeding the previously generated `input.json` through the circuit / model. "
            ]
        },
        {
            "cell_type": "code",
            "execution_count": 3,
            "metadata": {},
            "outputs": [
                {
                    "name": "stderr",
                    "output_type": "stream",
                    "text": [
                        "DEBUG tract_onnx.model 2023-07-20 17:37:00,112 model.rs:247 ONNX operator set version: 10\n",
                        "DEBUG tract_hir.infer.analyser 2023-07-20 17:37:00,125 analyser.rs:151   Refined 3/0>: ..,? -> 1,1,1,1,F32\n",
                        "DEBUG tract_hir.infer.analyser 2023-07-20 17:37:00,126 analyser.rs:151   Refined 4/0>: ..,? -> 1,1,1,1,F32\n",
                        "DEBUG tract_core.optim.change_axes 2023-07-20 17:37:00,134 change_axes.rs:76   Considering change AxisChange { outlet: 0/0>, op: Rm(0) }\n",
                        "DEBUG tract_core.optim.change_axes 2023-07-20 17:37:00,135 change_axes.rs:88     Change AxisChange { outlet: 0/0>, op: Rm(0) } blocked by locked interface 0/0>\n",
                        "DEBUG tract_core.optim.change_axes 2023-07-20 17:37:00,135 change_axes.rs:76   Considering change AxisChange { outlet: 1/0>, op: Rm(0) }\n",
                        "DEBUG tract_core.optim.change_axes 2023-07-20 17:37:00,135 change_axes.rs:88     Change AxisChange { outlet: 1/0>, op: Rm(0) } blocked by locked interface 3/0>\n",
                        "DEBUG tract_core.optim.change_axes 2023-07-20 17:37:00,136 change_axes.rs:76   Considering change AxisChange { outlet: 1/0>, op: Rm(1) }\n",
                        "DEBUG tract_core.optim.change_axes 2023-07-20 17:37:00,137 change_axes.rs:116     Propagation of AxisChange { outlet: 1/0>, op: Rm(1) } blocked by #1 \"/conv1/Conv\" ConvUnary\n",
                        "DEBUG tract_core.optim.change_axes 2023-07-20 17:37:00,138 change_axes.rs:76   Considering change AxisChange { outlet: 1/0>, op: Rm(2) }\n",
                        "DEBUG tract_core.optim.change_axes 2023-07-20 17:37:00,138 change_axes.rs:116     Propagation of AxisChange { outlet: 1/0>, op: Rm(2) } blocked by #1 \"/conv1/Conv\" ConvUnary\n",
                        "DEBUG tract_core.optim.change_axes 2023-07-20 17:37:00,139 change_axes.rs:76   Considering change AxisChange { outlet: 1/0>, op: Rm(3) }\n",
                        "DEBUG tract_core.optim.change_axes 2023-07-20 17:37:00,139 change_axes.rs:116     Propagation of AxisChange { outlet: 1/0>, op: Rm(3) } blocked by #1 \"/conv1/Conv\" ConvUnary\n",
                        "DEBUG tract_core.optim.change_axes 2023-07-20 17:37:00,140 change_axes.rs:76   Considering change AxisChange { outlet: 2/0>, op: Rm(0) }\n",
                        "DEBUG tract_core.optim.change_axes 2023-07-20 17:37:00,142 change_axes.rs:88     Change AxisChange { outlet: 2/0>, op: Rm(0) } blocked by locked interface 3/0>\n",
                        "DEBUG tract_core.optim.change_axes 2023-07-20 17:37:00,145 change_axes.rs:76   Considering change AxisChange { outlet: 2/0>, op: Rm(1) }\n",
                        "DEBUG tract_core.optim.change_axes 2023-07-20 17:37:00,147 change_axes.rs:88     Change AxisChange { outlet: 2/0>, op: Rm(1) } blocked by locked interface 3/0>\n",
                        "DEBUG tract_core.optim.change_axes 2023-07-20 17:37:00,148 change_axes.rs:76   Considering change AxisChange { outlet: 2/0>, op: Rm(2) }\n",
                        "DEBUG tract_core.optim.change_axes 2023-07-20 17:37:00,148 change_axes.rs:88     Change AxisChange { outlet: 2/0>, op: Rm(2) } blocked by locked interface 3/0>\n",
                        "DEBUG tract_core.optim.change_axes 2023-07-20 17:37:00,149 change_axes.rs:76   Considering change AxisChange { outlet: 2/0>, op: Rm(3) }\n",
                        "DEBUG tract_core.optim.change_axes 2023-07-20 17:37:00,150 change_axes.rs:88     Change AxisChange { outlet: 2/0>, op: Rm(3) } blocked by locked interface 3/0>\n",
                        "DEBUG tract_core.optim.change_axes 2023-07-20 17:37:00,151 change_axes.rs:76   Considering change AxisChange { outlet: 3/0>, op: Rm(0) }\n",
                        "DEBUG tract_core.optim.change_axes 2023-07-20 17:37:00,152 change_axes.rs:88     Change AxisChange { outlet: 3/0>, op: Rm(0) } blocked by locked interface 3/0>\n",
                        "DEBUG tract_core.optim.change_axes 2023-07-20 17:37:00,153 change_axes.rs:76   Considering change AxisChange { outlet: 3/0>, op: Rm(1) }\n",
                        "DEBUG tract_core.optim.change_axes 2023-07-20 17:37:00,155 change_axes.rs:88     Change AxisChange { outlet: 3/0>, op: Rm(1) } blocked by locked interface 3/0>\n",
                        "DEBUG tract_core.optim.change_axes 2023-07-20 17:37:00,156 change_axes.rs:76   Considering change AxisChange { outlet: 3/0>, op: Rm(2) }\n",
                        "DEBUG tract_core.optim.change_axes 2023-07-20 17:37:00,158 change_axes.rs:88     Change AxisChange { outlet: 3/0>, op: Rm(2) } blocked by locked interface 3/0>\n",
                        "DEBUG tract_core.optim.change_axes 2023-07-20 17:37:00,159 change_axes.rs:76   Considering change AxisChange { outlet: 3/0>, op: Rm(3) }\n",
                        "DEBUG tract_core.optim.change_axes 2023-07-20 17:37:00,160 change_axes.rs:88     Change AxisChange { outlet: 3/0>, op: Rm(3) } blocked by locked interface 3/0>\n",
                        "INFO ezkl.graph.model 2023-07-20 17:37:00,161 model.rs:421 set batch size to 1\n",
                        "DEBUG ezkl.graph.utilities 2023-07-20 17:37:00,163 utilities.rs:232 Loading node: Node { id: 0, name: \"input\", inputs: [], op: TypedSource { fact: 1,3,8,8,F32 }, outputs: [1,3,8,8,F32 >1/0] }\n",
                        "DEBUG ezkl.graph.utilities 2023-07-20 17:37:00,166 utilities.rs:232 Loading node: Node { id: 1, name: \"/conv1/Conv\", inputs: [0/0>], op: ConvUnary { pool_spec: PoolSpec { data_format: NCHW, kernel_shape: [5, 5], padding: Explicit([0, 0], [0, 0], false), dilations: Some([1, 1]), strides: Some([4, 4]), output_channel_override: Some(1) }, kernel_fmt: OIHW, kernel: 1,3,5,5,F32 0.003067784, 0.101636946, 0.048648506, -0.036937527, -0.07010588, 0.11141802, -0.07934603, 0.10085079, -0.06234057, -0.014980726, 0.019569606, 0.059896424..., group: 1, bias: Some(1,F32 -0.040488243), q_params: None }, outputs: [1,1,1,1,F32 >3/0] }\n",
                        "DEBUG ezkl.graph.utilities 2023-07-20 17:37:00,169 utilities.rs:232 Loading node: Node { id: 2, name: \"/relu/Relu.low.cst\", inputs: [], op: Const(1,1,1,1,F32 0), outputs: [1,1,1,1,F32 0 >3/1] }\n",
                        "DEBUG ezkl.graph.utilities 2023-07-20 17:37:00,170 utilities.rs:232 Loading node: Node { id: 3, name: \"/relu/Relu.low\", inputs: [1/0>, 2/0>], op: TypedBinOp(Max), outputs: [1,1,1,1,F32 ] }\n",
                        "DEBUG ezkl.graph.model 2023-07-20 17:37:00,172 model.rs:430 \n",
                        "     0 |                   -> >1/0              | Source                    input                                              [] => [1,3,8,8,F32]\n",
                        "    1 | 0/0>              -> >3/0              | ConvUnary                 /conv1/Conv                                        [1,3,8,8,F32] => [1,1,1,1,F32]\n",
                        "                                               |   * output #0: /conv1/Conv_output_0 >3/0\n",
                        "    2 |                   -> >3/1              | Const                     /relu/Relu.low.cst                                 [] => [1,1,1,1,F32 0]\n",
                        "    3 | 1/0>     2/0>     ->                   | Max                       /relu/Relu.low                                     [1,1,1,1,F32, 1,1,1,1,F32 0] => [1,1,1,1,F32]\n",
                        "outputs: 3/0>\n",
                        "\n",
                        "DEBUG ezkl.graph.model 2023-07-20 17:37:00,173 model.rs:223 \n",
                        "  \n",
                        "┌────────┬───────────┬────────┬──────────────┬─────┐\n",
                        "│ opkind │ out_scale │ inputs │ out_dims     │ idx │\n",
                        "├────────┼───────────┼────────┼──────────────┼─────┤\n",
                        "│ Input  │ 10        │        │ [1, 3, 8, 8] │ 0   │\n",
                        "├────────┼───────────┼────────┼──────────────┼─────┤\n",
                        "│ CONV   │ 20        │ [0]    │ [1, 1, 1, 1] │ 1   │\n",
                        "├────────┼───────────┼────────┼──────────────┼─────┤\n",
                        "│ CONST  │ 10        │        │ [1, 1, 1, 1] │ 2   │\n",
                        "├────────┼───────────┼────────┼──────────────┼─────┤\n",
                        "│ RELU   │ 10        │ [1]    │ [1, 1, 1, 1] │ 3   │\n",
                        "└────────┴───────────┴────────┴──────────────┴─────┘\n",
                        "DEBUG ezkl.graph.model 2023-07-20 17:37:00,213 model.rs:304 executing 1: CONV\n",
                        "DEBUG ezkl.graph.model 2023-07-20 17:37:00,216 model.rs:304 executing 2: CONST\n",
                        "DEBUG ezkl.graph.model 2023-07-20 17:37:00,218 model.rs:304 executing 3: RELU\n",
                        "DEBUG ezkl.graph.model 2023-07-20 17:37:00,219 model.rs:349 model outputs are nodes: [3]\n"
                    ]
                }
            ],
            "source": [
                "!export RUST_BACKTRACE=1\n",
                "\n",
                "witness_path = \"witness.json\"\n",
                "\n",
                "res = ezkl.gen_witness(data_path, model_path, witness_path, settings_path = settings_path)"
            ]
        },
        {
            "attachments": {},
            "cell_type": "markdown",
            "metadata": {},
            "source": [
                "As a sanity check you can \"mock prove\" (i.e check that all the constraints of the circuit match without generate a full proof). "
            ]
        },
        {
            "cell_type": "code",
            "execution_count": null,
            "metadata": {},
            "outputs": [],
            "source": [
                "\n",
                "\n",
                "res = ezkl.mock(witness_path, model_path, settings_path)"
            ]
        },
        {
            "attachments": {},
            "cell_type": "markdown",
            "metadata": {},
            "source": [
                "Here we setup verifying and proving keys for the circuit. As the name suggests the proving key is needed for ... proving and the verifying key is needed for ... verifying. "
            ]
        },
        {
            "cell_type": "code",
            "execution_count": null,
            "metadata": {},
            "outputs": [],
            "source": [
                "# HERE WE SETUP THE CIRCUIT PARAMS\n",
                "# WE GOT KEYS\n",
                "# WE GOT CIRCUIT PARAMETERS\n",
                "# EVERYTHING ANYONE HAS EVER NEEDED FOR ZK\n",
                "res = ezkl.setup(\n",
                "        model_path,\n",
                "        vk_path,\n",
                "        pk_path,\n",
                "        srs_path,\n",
                "        settings_path,\n",
                "    )\n",
                "\n",
                "assert res == True\n",
                "assert os.path.isfile(vk_path)\n",
                "assert os.path.isfile(pk_path)\n",
                "assert os.path.isfile(settings_path)"
            ]
        },
        {
            "attachments": {},
            "cell_type": "markdown",
            "metadata": {},
            "source": [
                "Now we generate a full proof. "
            ]
        },
        {
            "cell_type": "code",
            "execution_count": null,
            "metadata": {},
            "outputs": [],
            "source": [
                "# GENERATE A PROOF\n",
                "\n",
                "proof_path = os.path.join('test.pf')\n",
                "\n",
                "res = ezkl.prove(\n",
                "        witness_path,\n",
                "        model_path,\n",
                "        pk_path,\n",
                "        proof_path,\n",
                "        srs_path,\n",
                "        \"evm\",\n",
                "        \"single\",\n",
                "        settings_path,\n",
                "    )\n",
                "\n",
                "print(res)\n",
                "assert os.path.isfile(proof_path)"
            ]
        },
        {
            "attachments": {},
            "cell_type": "markdown",
            "metadata": {},
            "source": [
                "And verify it as a sanity check. "
            ]
        },
        {
            "cell_type": "code",
            "execution_count": null,
            "metadata": {},
            "outputs": [],
            "source": [
                "# VERIFY IT\n",
                "\n",
                "res = ezkl.verify(\n",
                "        proof_path,\n",
                "        settings_path,\n",
                "        vk_path,\n",
                "        srs_path,\n",
                "    )\n",
                "\n",
                "assert res == True\n",
                "print(\"verified\")"
            ]
        },
        {
            "attachments": {},
            "cell_type": "markdown",
            "metadata": {},
            "source": [
                "We can now create an EVM / `.sol` verifier that can be deployed on chain to verify submitted proofs using a view function."
            ]
        },
        {
            "cell_type": "code",
            "execution_count": null,
            "metadata": {},
            "outputs": [],
            "source": [
                "\n",
                "abi_path = 'test.abi'\n",
                "sol_code_path = 'test.sol'\n",
                "\n",
                "res = ezkl.create_evm_verifier(\n",
                "        vk_path,\n",
                "        srs_path,\n",
                "        settings_path,\n",
                "        sol_code_path,\n",
                "        abi_path,\n",
                "    )\n",
                "assert res == True\n"
            ]
        },
        {
            "cell_type": "markdown",
            "metadata": {},
            "source": [
                "## Verify on the evm"
            ]
        },
        {
            "cell_type": "code",
            "execution_count": null,
            "metadata": {},
            "outputs": [],
            "source": [
                "# Make sure anvil is running locally first\n",
                "# run with $ anvil -p 3030\n",
                "# we use the default anvil node here\n",
                "import json\n",
                "\n",
                "address_path = os.path.join(\"address.json\")\n",
                "\n",
                "res = ezkl.deploy_evm(\n",
                "    address_path,\n",
                "    sol_code_path,\n",
                "    'http://127.0.0.1:3030'\n",
                ")\n",
                "\n",
                "assert res == True\n",
                "\n",
                "with open(address_path, 'r') as file:\n",
                "    addr = file.read().rstrip()"
            ]
        },
        {
            "cell_type": "code",
            "execution_count": null,
            "metadata": {},
            "outputs": [],
            "source": [
                "# make sure anvil is running locally\n",
                "# $ anvil -p 3030\n",
                "\n",
                "res = ezkl.verify_evm(\n",
                "    proof_path,\n",
                "    addr,\n",
                "    \"http://127.0.0.1:3030\"\n",
                ")\n",
                "assert res == True"
            ]
        },
        {
            "cell_type": "code",
            "execution_count": null,
            "metadata": {},
            "outputs": [],
            "source": []
        }
    ],
    "metadata": {
        "kernelspec": {
            "display_name": "ezkl",
            "language": "python",
            "name": "python3"
        },
        "language_info": {
            "codemirror_mode": {
                "name": "ipython",
                "version": 3
            },
            "file_extension": ".py",
            "mimetype": "text/x-python",
            "name": "python",
            "nbconvert_exporter": "python",
            "pygments_lexer": "ipython3",
            "version": "3.9.15"
        },
        "orig_nbformat": 4
    },
    "nbformat": 4,
    "nbformat_minor": 2
}
