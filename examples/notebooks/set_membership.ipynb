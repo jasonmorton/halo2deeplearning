{
 "cells": [
  {
   "attachments": {},
   "cell_type": "markdown",
   "id": "cf69bb3f-94e6-4dba-92cd-ce08df117d67",
   "metadata": {},
   "source": [
    "## Hash set membership demo"
   ]
  },
  {
   "cell_type": "code",
   "execution_count": 27,
   "id": "95613ee9",
   "metadata": {},
   "outputs": [],
   "source": [
    "# check if notebook is in colab\n",
    "try:\n",
    "    # install ezkl\n",
    "    import google.colab\n",
    "    import subprocess\n",
    "    import sys\n",
    "    subprocess.check_call([sys.executable, \"-m\", \"pip\", \"install\", \"ezkl\"])\n",
    "    subprocess.check_call([sys.executable, \"-m\", \"pip\", \"install\", \"onnx\"])\n",
    "\n",
    "# rely on local installation of ezkl if the notebook is not in colab\n",
    "except:\n",
    "    pass\n",
    "\n",
    "\n",
    "# here we create and (potentially train a model)\n",
    "\n",
    "# make sure you have the dependencies required here already installed\n",
    "from torch import nn\n",
    "import ezkl\n",
    "import os\n",
    "import json\n",
    "import torch\n",
    "\n",
    "\n",
    "class MyModel(nn.Module):\n",
    "    def __init__(self):\n",
    "        super(MyModel, self).__init__()\n",
    "\n",
    "        # this is a constant set\n",
    "        self.set = torch.nn.Parameter(torch.tensor([0.0, 2.0, 3.0, 4.0, 5.0, 6.0, 7.0, 8.0, 9.0, 10.0]))\n",
    "\n",
    "    def forward(self, x):\n",
    "        diff = (x - self.set)\n",
    "        membership_test = torch.prod(diff, dim=1)\n",
    "        return membership_test\n",
    "\n",
    "\n",
    "circuit = MyModel()\n",
    "\n",
    "# Train the model as you like here (skipped for brevity)\n",
    "\n",
    "\n"
   ]
  },
  {
   "cell_type": "code",
   "execution_count": 28,
   "id": "b37637c4",
   "metadata": {},
   "outputs": [],
   "source": [
    "model_path = os.path.join('network.onnx')\n",
    "compiled_model_path = os.path.join('network.compiled')\n",
    "pk_path = os.path.join('test.pk')\n",
    "vk_path = os.path.join('test.vk')\n",
    "settings_path = os.path.join('settings.json')\n",
    "srs_path = os.path.join('kzg.srs')\n",
    "witness_path = os.path.join('witness.json')\n",
    "data_path = os.path.join('input.json')"
   ]
  },
  {
   "cell_type": "code",
   "execution_count": 29,
   "id": "c833f08c",
   "metadata": {},
   "outputs": [
    {
     "name": "stdout",
     "output_type": "stream",
     "text": [
      "2.0.1\n"
     ]
    }
   ],
   "source": [
    "# print pytorch version \n",
    "print(torch.__version__)"
   ]
  },
  {
   "cell_type": "code",
   "execution_count": 30,
   "id": "82db373a",
   "metadata": {},
   "outputs": [
    {
     "name": "stdout",
     "output_type": "stream",
     "text": [
      "================ Diagnostic Run torch.onnx.export version 2.0.1 ================\n",
      "verbose: False, log level: Level.ERROR\n",
      "======================= 0 NONE 0 NOTE 0 WARNING 0 ERROR ========================\n",
      "\n"
     ]
    }
   ],
   "source": [
    "\n",
    "\n",
    "# After training, export to onnx (network.onnx) and create a data file (input.json)\n",
    "# hash(0) = 0x00000000, so this will be a member of the set\n",
    "x = 0.1*torch.zeros(1,*[1], requires_grad=True)\n",
    "\n",
    "# Flips the neural net into inference mode\n",
    "circuit.eval()\n",
    "\n",
    "    # Export the model\n",
    "torch.onnx.export(circuit,               # model being run\n",
    "                      x,                   # model input (or a tuple for multiple inputs)\n",
    "                      model_path,            # where to save the model (can be a file or file-like object)\n",
    "                      export_params=True,        # store the trained parameter weights inside the model file\n",
    "                      opset_version=14,          # the ONNX version to export the model to\n",
    "                      do_constant_folding=True,  # whether to execute constant folding for optimization\n",
    "                      input_names = ['input'],   # the model's input names\n",
    "                      output_names = ['output'], # the model's output names\n",
    "                      dynamic_axes={'input' : {0 : 'batch_size'},    # variable length axes\n",
    "                                    'output' : {0 : 'batch_size'}})\n",
    "\n",
    "data_array = ((x).detach().numpy()).reshape([-1]).tolist()\n",
    "\n",
    "data = dict(input_data = [data_array])\n",
    "\n",
    "    # Serialize data into file:\n",
    "json.dump( data, open(data_path, 'w' ))\n"
   ]
  },
  {
   "cell_type": "code",
   "execution_count": 35,
   "id": "d5e374a2",
   "metadata": {},
   "outputs": [],
   "source": [
    "run_args = ezkl.PyRunArgs()\n",
    "# \"hashed/private\" means that the output of the hashing is not visible to the verifier and is instead fed into the computational graph\n",
    "run_args.input_visibility = \"hashed/private\"\n",
    "# we set it to fix the set we want to check membership for\n",
    "run_args.param_visibility = \"public\"\n",
    "# the output is public -- set membership fails if it is not = 0\n",
    "run_args.output_visibility = \"public\"\n",
    "run_args.variables = [(\"batch_size\", 1)]\n",
    "# never rebase the scale\n",
    "run_args.scale_rebase_multiplier = 1000\n",
    "# logrows\n",
    "run_args.logrows = 11\n",
    "\n",
    "#  this creates the following sequence of ops:\n",
    "# 1. hash the input -> poseidon(x)\n",
    "# 2. compute the set difference -> poseidon(x) - set\n",
    "# 3. compute the product of the set difference -> prod(poseidon(x) - set)\n",
    "\n",
    "\n",
    "# TODO: Dictionary outputs\n",
    "res = ezkl.gen_settings(model_path, settings_path)\n",
    "assert res == True\n"
   ]
  },
  {
   "cell_type": "code",
   "execution_count": 36,
   "id": "3aa4f090",
   "metadata": {},
   "outputs": [],
   "source": [
    "res = ezkl.compile_model(model_path, compiled_model_path, settings_path)\n",
    "assert res == True"
   ]
  },
  {
   "cell_type": "code",
   "execution_count": 37,
   "id": "8b74dcee",
   "metadata": {},
   "outputs": [],
   "source": [
    "# srs path\n",
    "res = ezkl.get_srs(srs_path, settings_path)"
   ]
  },
  {
   "cell_type": "code",
   "execution_count": 38,
   "id": "18c8b7c7",
   "metadata": {},
   "outputs": [],
   "source": [
    "# now generate the witness file \n",
    "\n",
    "res = ezkl.gen_witness(data_path, compiled_model_path, witness_path, settings_path = settings_path)\n",
    "assert os.path.isfile(witness_path)"
   ]
  },
  {
   "cell_type": "code",
   "execution_count": 39,
   "id": "b1c561a8",
   "metadata": {},
   "outputs": [
    {
     "name": "stdout",
     "output_type": "stream",
     "text": [
      "inputs: [Value { inner: Tensor { inner: [Value(Value { inner: Some(0x0000000000000000000000000000000000000000000000000000000000000000) })], dims: [1], scale: None, visibility: None }, dims: [1], scale: 1 }]\n",
      "inputs: [Value { inner: Tensor { inner: [Value(Value { inner: Some(0x0000000000000000000000000000000000000000000000000000000000000000) })], dims: [1], scale: None, visibility: None }, dims: [1], scale: 1 }]\n"
     ]
    }
   ],
   "source": [
    "\n",
    "# HERE WE SETUP THE CIRCUIT PARAMS\n",
    "# WE GOT KEYS\n",
    "# WE GOT CIRCUIT PARAMETERS\n",
    "# EVERYTHING ANYONE HAS EVER NEEDED FOR ZK\n",
    "\n",
    "\n",
    "\n",
    "res = ezkl.setup(\n",
    "        compiled_model_path,\n",
    "        vk_path,\n",
    "        pk_path,\n",
    "        srs_path,\n",
    "        settings_path,\n",
    "    )\n",
    "\n",
    "assert res == True\n",
    "assert os.path.isfile(vk_path)\n",
    "assert os.path.isfile(pk_path)\n",
    "assert os.path.isfile(settings_path)"
   ]
  },
  {
   "cell_type": "code",
   "execution_count": 40,
   "id": "c384cbc8",
   "metadata": {},
   "outputs": [
    {
     "name": "stdout",
     "output_type": "stream",
     "text": [
      "inputs: [Value { inner: Tensor { inner: [Value(Value { inner: Some(0x0000000000000000000000000000000000000000000000000000000000000000) })], dims: [1], scale: None, visibility: None }, dims: [1], scale: 1 }]\n",
      "{'instances': [[[0, 0, 0, 0]], [[0, 0, 0, 0]]], 'proof': '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', 'transcript_type': 'EVM'}\n"
     ]
    }
   ],
   "source": [
    "# GENERATE A PROOF\n",
    "\n",
    "\n",
    "proof_path = os.path.join('test.pf')\n",
    "\n",
    "res = ezkl.prove(\n",
    "        witness_path,\n",
    "        compiled_model_path,\n",
    "        pk_path,\n",
    "        proof_path,\n",
    "        srs_path,\n",
    "        \"evm\",\n",
    "        \"single\",\n",
    "        settings_path,\n",
    "    )\n",
    "\n",
    "print(res)\n",
    "assert os.path.isfile(proof_path)"
   ]
  },
  {
   "cell_type": "code",
   "execution_count": 41,
   "id": "76f00d41",
   "metadata": {},
   "outputs": [
    {
     "name": "stdout",
     "output_type": "stream",
     "text": [
      "verified\n"
     ]
    }
   ],
   "source": [
    "# VERIFY IT\n",
    "\n",
    "res = ezkl.verify(\n",
    "        proof_path,\n",
    "        settings_path,\n",
    "        vk_path,\n",
    "        srs_path,\n",
    "    )\n",
    "\n",
    "assert res == True\n",
    "print(\"verified\")"
   ]
  }
 ],
 "metadata": {
  "kernelspec": {
   "display_name": "Python 3 (ipykernel)",
   "language": "python",
   "name": "python3"
  },
  "language_info": {
   "codemirror_mode": {
    "name": "ipython",
    "version": 3
   },
   "file_extension": ".py",
   "mimetype": "text/x-python",
   "name": "python",
   "nbconvert_exporter": "python",
   "pygments_lexer": "ipython3",
   "version": "3.9.15"
  }
 },
 "nbformat": 4,
 "nbformat_minor": 5
}
