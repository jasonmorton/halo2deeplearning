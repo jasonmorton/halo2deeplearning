{
 "cells": [
  {
   "cell_type": "markdown",
   "id": "5fe9feb6-2b35-414a-be9d-771eabdbb0dc",
   "metadata": {},
   "source": [
    "## EZKL GCN Notebook"
   ]
  },
  {
   "cell_type": "code",
   "execution_count": 1,
   "id": "1005303a-cd48-4766-9c43-2116f94ed381",
   "metadata": {},
   "outputs": [],
   "source": [
    "import numpy as np\n",
    "\n",
    "import torch\n",
    "from torch import nn\n",
    "import torch.nn.functional as F\n",
    "\n",
    "# check if notebook is in colab\n",
    "try:\n",
    "    # install ezkl\n",
    "    import google.colab\n",
    "    import subprocess\n",
    "    import sys\n",
    "    subprocess.check_call([sys.executable, \"-m\", \"pip3\", \"install\", \"ezkl\"])\n",
    "    subprocess.check_call([sys.executable, \"-m\", \"pip3\", \"install\", \"onnx\"])\n",
    "    subprocess.check_call([sys.executable, \"-m\", \"pip3\", \"install\", \"torch torchvision\"])\n",
    "    subprocess.check_call([sys.executable, \"-m\", \"pip3\", \"install\", \"torch-scatter torch-sparse torch-geometric\"])\n",
    "\n",
    "# rely on local installation of ezkl if the notebook is not in colab\n",
    "except:\n",
    "    pass"
   ]
  },
  {
   "cell_type": "code",
   "execution_count": 2,
   "id": "89e5732e-a97b-445e-9174-69689e37e72c",
   "metadata": {},
   "outputs": [
    {
     "data": {
      "text/plain": [
       "Data(x=[3, 1], edge_index=[2, 3])"
      ]
     },
     "execution_count": 2,
     "metadata": {},
     "output_type": "execute_result"
    }
   ],
   "source": [
    "import torch\n",
    "from torch_geometric.data import Data\n",
    "\n",
    "edge_index = torch.tensor([[2, 1, 3],\n",
    "                           [0, 0, 2]], dtype=torch.long)\n",
    "x = torch.tensor([[1], [1], [1]], dtype=torch.float)\n",
    "\n",
    "data = Data(x=x, edge_index=edge_index)\n",
    "data"
   ]
  },
  {
   "cell_type": "code",
   "execution_count": 23,
   "id": "73b34e81-63cb-44b0-9f95-f8490e844676",
   "metadata": {},
   "outputs": [],
   "source": [
    "import torch\n",
    "import math\n",
    "from torch_geometric.nn import MessagePassing\n",
    "from torch.nn.modules.module import Module\n",
    "        \n",
    "class GCNConv(Module):\n",
    "    def __init__(self, in_channels, out_channels):\n",
    "        super(GCNConv, self).__init__()  # \"Add\" aggregation.\n",
    "        self.lin = torch.nn.Linear(in_channels, out_channels)\n",
    "\n",
    "    def forward(self, x, adj_t, deg):\n",
    "        x = self.lin(x)\n",
    "        adj_t = self.normalize_adj(adj_t, deg)\n",
    "        x = adj_t @ x\n",
    "        \n",
    "        return x\n",
    "    \n",
    "    def normalize_adj(self, adj_t, deg):\n",
    "        deg.masked_fill_(deg == 0, 1.)\n",
    "        deg_inv_sqrt = deg.pow_(-0.5)\n",
    "        deg_inv_sqrt.masked_fill_(deg_inv_sqrt == 1, 0.)\n",
    "        adj_t = adj_t *  deg_inv_sqrt.view(-1, 1) # N, 1\n",
    "        adj_t = adj_t *  deg_inv_sqrt.view(1, -1) # 1, N\n",
    "\n",
    "        return adj_t"
   ]
  },
  {
   "cell_type": "markdown",
   "id": "ae70bc34-def7-40fd-9558-2500c6f29323",
   "metadata": {},
   "source": [
    "## Train Pipeline"
   ]
  },
  {
   "cell_type": "code",
   "execution_count": 24,
   "id": "7ca117a1-7473-42a6-be95-dc314eb3e251",
   "metadata": {},
   "outputs": [],
   "source": [
    "import os\n",
    "import os.path as osp\n",
    "import torch\n",
    "import torch.nn.functional as F\n",
    "from torch_geometric.datasets import Planetoid\n",
    "import torch_geometric.transforms as T\n",
    "\n",
    "path = osp.join(os.getcwd(), 'data', 'Cora')\n",
    "dataset = Planetoid(path, 'Cora')"
   ]
  },
  {
   "cell_type": "code",
   "execution_count": 7,
   "id": "807f4d87-6acc-4cbb-80e4-8eb09feb994c",
   "metadata": {},
   "outputs": [],
   "source": [
    "import time\n",
    "\n",
    "from torch import tensor\n",
    "from torch.optim import Adam\n",
    "\n",
    "num_node = 10\n",
    "num_feat = 5\n",
    "\n",
    "def run(dataset, model, runs, epochs, lr, weight_decay, early_stopping):\n",
    "\n",
    "    val_losses, accs, durations = [], [], []\n",
    "    for _ in range(runs):\n",
    "        data = dataset[0]\n",
    "        data = data.to(device)\n",
    "\n",
    "        model.to(device).reset_parameters()\n",
    "        optimizer = Adam(model.parameters(), lr=lr, weight_decay=weight_decay)\n",
    "\n",
    "        if torch.cuda.is_available():\n",
    "            torch.cuda.synchronize()\n",
    "\n",
    "        t_start = time.perf_counter()\n",
    "\n",
    "        best_val_loss = float('inf')\n",
    "        test_acc = 0\n",
    "        val_loss_history = []\n",
    "\n",
    "        for epoch in range(1, epochs + 1):\n",
    "            train(model, optimizer, data)\n",
    "            eval_info = evaluate(model, data)\n",
    "            eval_info['epoch'] = epoch\n",
    "\n",
    "            if eval_info['val_loss'] < best_val_loss:\n",
    "                best_val_loss = eval_info['val_loss']\n",
    "                test_acc = eval_info['test_acc']\n",
    "\n",
    "            val_loss_history.append(eval_info['val_loss'])\n",
    "            if early_stopping > 0 and epoch > epochs // 2:\n",
    "                tmp = tensor(val_loss_history[-(early_stopping + 1):-1])\n",
    "                if eval_info['val_loss'] > tmp.mean().item():\n",
    "                    break\n",
    "\n",
    "        if torch.cuda.is_available():\n",
    "            torch.cuda.synchronize()\n",
    "\n",
    "        t_end = time.perf_counter()\n",
    "\n",
    "        val_losses.append(best_val_loss)\n",
    "        accs.append(test_acc)\n",
    "        durations.append(t_end - t_start)\n",
    "\n",
    "    loss, acc, duration = tensor(val_losses), tensor(accs), tensor(durations)\n",
    "\n",
    "    print('Val Loss: {:.4f}, Test Accuracy: {:.3f} ± {:.3f}, Duration: {:.3f}'.\n",
    "          format(loss.mean().item(),\n",
    "                 acc.mean().item(),\n",
    "                 acc.std().item(),\n",
    "                 duration.mean().item()))\n",
    "\n",
    "\n",
    "def train(model, optimizer, data):\n",
    "    model.train()\n",
    "    optimizer.zero_grad()\n",
    "    out = model(data.x, data.edge_index)\n",
    "    loss = F.nll_loss(out[data.train_mask], data.y[data.train_mask])\n",
    "    loss.backward()\n",
    "    optimizer.step()\n",
    "\n",
    "\n",
    "def evaluate(model, data):\n",
    "    model.eval()\n",
    "\n",
    "    with torch.no_grad():\n",
    "        logits = model(data.x, data.edge_index)\n",
    "\n",
    "    outs = {}\n",
    "    for key in ['train', 'val', 'test']:\n",
    "        mask = data['{}_mask'.format(key)]\n",
    "        loss = F.nll_loss(logits[mask], data.y[mask]).item()\n",
    "        pred = logits[mask].max(1)[1]\n",
    "        acc = pred.eq(data.y[mask]).sum().item() / mask.sum().item()\n",
    "\n",
    "        outs['{}_loss'.format(key)] = loss\n",
    "        outs['{}_acc'.format(key)] = acc\n",
    "\n",
    "    return outs"
   ]
  },
  {
   "cell_type": "code",
   "execution_count": 8,
   "id": "28b3605e-e6fd-45ff-ae4b-607065f4849c",
   "metadata": {},
   "outputs": [],
   "source": [
    "runs = 10\n",
    "epochs = 200\n",
    "lr = 0.01\n",
    "weight_decay = 0.0005\n",
    "early_stopping = 10\n",
    "hidden = 16\n",
    "dropout = 0.5\n",
    "device = torch.device('cuda' if torch.cuda.is_available() else 'cpu')\n",
    "\n",
    "\n",
    "class Net(torch.nn.Module):\n",
    "    def __init__(self, dataset):\n",
    "        super(Net, self).__init__()\n",
    "        # self.conv1 = GCNConv(dataset.num_features, hidden)\n",
    "        self.conv1 = GCNConv(4, hidden)\n",
    "        self.conv2 = GCNConv(hidden, dataset.num_classes)\n",
    "\n",
    "    def reset_parameters(self):\n",
    "        self.conv1.reset_parameters()\n",
    "        self.conv2.reset_parameters()\n",
    "\n",
    "    def forward(self, x, adj_t, deg):\n",
    "        x = F.relu(self.conv1(x, adj_t, deg))\n",
    "        x = F.dropout(x, p=dropout, training=self.training)\n",
    "        x = self.conv2(x, adj_t, deg)\n",
    "        return F.log_softmax(x, dim=1)        \n",
    "\n",
    "model = Net(dataset)\n",
    "# run(dataset, model, runs, epochs, lr, weight_decay, early_stopping)  "
   ]
  },
  {
   "cell_type": "markdown",
   "id": "4cc3ffed-74c2-48e3-86bc-a5e51f44a09a",
   "metadata": {},
   "source": [
    "## EZKL Setup"
   ]
  },
  {
   "cell_type": "code",
   "execution_count": 9,
   "id": "92585631-ff39-402e-bd1c-aaebdce682e5",
   "metadata": {},
   "outputs": [],
   "source": [
    "import os \n",
    "import ezkl\n",
    "\n",
    "\n",
    "model_path = os.path.join('network.onnx')\n",
    "compiled_model_path = os.path.join('network.compiled')\n",
    "pk_path = os.path.join('test.pk')\n",
    "vk_path = os.path.join('test.vk')\n",
    "settings_path = os.path.join('settings.json')\n",
    "srs_path = os.path.join('kzg.srs')\n",
    "witness_path = os.path.join('witness.json')\n",
    "data_path = os.path.join('input.json')\n",
    "\n"
   ]
  },
  {
   "cell_type": "code",
   "execution_count": 10,
   "id": "d80d3169-cc70-4aee-bdc2-df9a435b3116",
   "metadata": {},
   "outputs": [
    {
     "name": "stdout",
     "output_type": "stream",
     "text": [
      "torch.Size([10, 10])\n",
      "torch.Size([10])\n",
      "torch.Size([10, 4])\n"
     ]
    }
   ],
   "source": [
    "# Downsample graph\n",
    "num_node = 10\n",
    "num_feat = 4\n",
    "num_edge = 5\n",
    "x = dataset[0].x[:num_node, :num_feat]\n",
    "edge_index = dataset[0].edge_index[:, :num_edge]\n",
    "\n",
    "adj_t = torch.sparse_coo_tensor(edge_index, torch.ones(5), size=(10, 10)).to_dense().T.clip(min=0, max=9)\n",
    "deg = torch.sum(adj_t, dim=1)\n"
   ]
  },
  {
   "cell_type": "code",
   "execution_count": 11,
   "id": "46367b2f-951d-403b-9346-e689de0bee3f",
   "metadata": {},
   "outputs": [
    {
     "name": "stdout",
     "output_type": "stream",
     "text": [
      "================ Diagnostic Run torch.onnx.export version 2.0.1 ================\n",
      "verbose: False, log level: Level.ERROR\n",
      "======================= 0 NONE 0 NOTE 0 WARNING 0 ERROR ========================\n",
      "\n"
     ]
    },
    {
     "name": "stderr",
     "output_type": "stream",
     "text": [
      "/Users/syo/greentea/src/ezkl/.env/lib/python3.11/site-packages/torch/onnx/utils.py:619: UserWarning: ONNX Preprocess - Removing mutation from node aten::masked_fill_ on block input: 'deg.1'. This changes graph semantics. (Triggered internally at /Users/runner/work/pytorch/pytorch/pytorch/torch/csrc/jit/passes/onnx/remove_inplace_ops_for_onnx.cpp:355.)\n",
      "  _C._jit_pass_onnx_remove_inplace_ops_for_onnx(graph, module)\n"
     ]
    }
   ],
   "source": [
    "import json \n",
    "\n",
    "# Flips the neural net into inference mode\n",
    "model.eval()\n",
    "model.to('cpu')\n",
    "\n",
    "# No dynamic axis for GNN batch\n",
    "torch.onnx.export(model,               # model being run\n",
    "                      (x, adj_t, deg),               # model input (or a tuple for multiple inputs)\n",
    "                      model_path,            # where to save the model (can be a file or file-like object)\n",
    "                      export_params=True,        # store the trained parameter weights inside the model file\n",
    "                      opset_version=11,          # the ONNX version to export the model to\n",
    "                      do_constant_folding=True,  # whether to execute constant folding for optimization\n",
    "                      input_names = ['x', 'edge_index'],   # the model's input names\n",
    "                      output_names = ['output']) # the model's output names"
   ]
  },
  {
   "cell_type": "code",
   "execution_count": 12,
   "id": "9e6da242-540e-48dc-bc20-d08fcd192af4",
   "metadata": {},
   "outputs": [],
   "source": [
    "torch_out = model(x, adj_t, deg)\n",
    "x_shape = x.shape\n",
    "adj_t_shape=adj_t.shape\n",
    "deg_shape=deg.shape\n",
    "\n",
    "x = ((x).detach().numpy()).reshape([-1]).tolist()\n",
    "adj_t = ((adj_t).detach().numpy()).reshape([-1]).tolist()\n",
    "deg = ((deg).detach().numpy()).reshape([-1]).tolist()\n",
    "\n",
    "data = dict(input_shapes=[x_shape, adj_t_shape, deg_shape],\n",
    "            input_data=[x, adj_t, deg],\n",
    "            output_data=[((torch_out).detach().numpy()).reshape([-1]).tolist()])\n",
    "json.dump(data, open(data_path, 'w'))"
   ]
  },
  {
   "cell_type": "code",
   "execution_count": 16,
   "id": "3393a884-7a14-435e-bb9e-4fa4fcbdc76b",
   "metadata": {
    "tags": []
   },
   "outputs": [],
   "source": [
    "!RUST_LOG=trace\n",
    "import ezkl\n",
    "\n",
    "run_args = ezkl.PyRunArgs()\n",
    "run_args.input_scale = 5\n",
    "run_args.param_scale = 5\n",
    "# TODO: Dictionary outputs\n",
    "res = ezkl.gen_settings(model_path, settings_path, py_run_args=run_args)\n",
    "assert res == True\n",
    "\n",
    "res = await ezkl.calibrate_settings(data_path, model_path, settings_path, \"resources\")\n",
    "assert res == True"
   ]
  },
  {
   "cell_type": "code",
   "execution_count": 17,
   "id": "8f86fceb",
   "metadata": {},
   "outputs": [],
   "source": [
    "res = ezkl.compile_circuit(model_path, compiled_model_path, settings_path)\n",
    "assert res == True"
   ]
  },
  {
   "cell_type": "code",
   "execution_count": 18,
   "id": "3b55c925",
   "metadata": {},
   "outputs": [],
   "source": [
    "# srs path\n",
    "res = ezkl.get_srs(srs_path, settings_path)"
   ]
  },
  {
   "cell_type": "code",
   "execution_count": 19,
   "id": "d6478bab",
   "metadata": {},
   "outputs": [],
   "source": [
    "# now generate the witness file \n",
    "\n",
    "res = ezkl.gen_witness(data_path, compiled_model_path, witness_path)\n",
    "assert os.path.isfile(witness_path)"
   ]
  },
  {
   "cell_type": "code",
   "execution_count": 20,
   "id": "b500c1ba",
   "metadata": {},
   "outputs": [],
   "source": [
    "# HERE WE SETUP THE CIRCUIT PARAMS\n",
    "# WE GOT KEYS\n",
    "# WE GOT CIRCUIT PARAMETERS\n",
    "# EVERYTHING ANYONE HAS EVER NEEDED FOR ZK\n",
    "\n",
    "\n",
    "\n",
    "res = ezkl.setup(\n",
    "        compiled_model_path,\n",
    "        vk_path,\n",
    "        pk_path,\n",
    "        srs_path,\n",
    "    )\n",
    "\n",
    "assert res == True\n",
    "assert os.path.isfile(vk_path)\n",
    "assert os.path.isfile(pk_path)\n",
    "assert os.path.isfile(settings_path)"
   ]
  },
  {
   "cell_type": "code",
   "execution_count": 21,
   "id": "ae152a64",
   "metadata": {},
   "outputs": [
    {
     "name": "stdout",
     "output_type": "stream",
     "text": [
      "{'instances': [[[15977320613530305179, 13780509999873149563, 4117876119636622007, 1538090670177930419], [15977320613530305179, 13780509999873149563, 4117876119636622007, 1538090670177930419], [15977320613530305179, 13780509999873149563, 4117876119636622007, 1538090670177930419], [15977320613530305179, 13780509999873149563, 4117876119636622007, 1538090670177930419], [15977320613530305179, 13780509999873149563, 4117876119636622007, 1538090670177930419], [15977320613530305179, 13780509999873149563, 4117876119636622007, 1538090670177930419], [15977320613530305179, 13780509999873149563, 4117876119636622007, 1538090670177930419], [15977320613530305179, 13780509999873149563, 4117876119636622007, 1538090670177930419], [15977320613530305179, 13780509999873149563, 4117876119636622007, 1538090670177930419], [15977320613530305179, 13780509999873149563, 4117876119636622007, 1538090670177930419], [15977320613530305179, 13780509999873149563, 4117876119636622007, 1538090670177930419], [15977320613530305179, 13780509999873149563, 4117876119636622007, 1538090670177930419], [15977320613530305179, 13780509999873149563, 4117876119636622007, 1538090670177930419], [15977320613530305179, 13780509999873149563, 4117876119636622007, 1538090670177930419], [15977320613530305179, 13780509999873149563, 4117876119636622007, 1538090670177930419], [15977320613530305179, 13780509999873149563, 4117876119636622007, 1538090670177930419], [15977320613530305179, 13780509999873149563, 4117876119636622007, 1538090670177930419], [15977320613530305179, 13780509999873149563, 4117876119636622007, 1538090670177930419], [15977320613530305179, 13780509999873149563, 4117876119636622007, 1538090670177930419], [15977320613530305179, 13780509999873149563, 4117876119636622007, 1538090670177930419], [15977320613530305179, 13780509999873149563, 4117876119636622007, 1538090670177930419], [15977320613530305179, 13780509999873149563, 4117876119636622007, 1538090670177930419], [15977320613530305179, 13780509999873149563, 4117876119636622007, 1538090670177930419], [15977320613530305179, 13780509999873149563, 4117876119636622007, 1538090670177930419], [15977320613530305179, 13780509999873149563, 4117876119636622007, 1538090670177930419], [15977320613530305179, 13780509999873149563, 4117876119636622007, 1538090670177930419], [15977320613530305179, 13780509999873149563, 4117876119636622007, 1538090670177930419], [15977320613530305179, 13780509999873149563, 4117876119636622007, 1538090670177930419], [15977320613530305179, 13780509999873149563, 4117876119636622007, 1538090670177930419], [15977320613530305179, 13780509999873149563, 4117876119636622007, 1538090670177930419], [15977320613530305179, 13780509999873149563, 4117876119636622007, 1538090670177930419], [15977320613530305179, 13780509999873149563, 4117876119636622007, 1538090670177930419], [15977320613530305179, 13780509999873149563, 4117876119636622007, 1538090670177930419], [15977320613530305179, 13780509999873149563, 4117876119636622007, 1538090670177930419], [15977320613530305179, 13780509999873149563, 4117876119636622007, 1538090670177930419], [15977320613530305179, 13780509999873149563, 4117876119636622007, 1538090670177930419], [15977320613530305179, 13780509999873149563, 4117876119636622007, 1538090670177930419], [15977320613530305179, 13780509999873149563, 4117876119636622007, 1538090670177930419], [15977320613530305179, 13780509999873149563, 4117876119636622007, 1538090670177930419], [15977320613530305179, 13780509999873149563, 4117876119636622007, 1538090670177930419], [15977320613530305179, 13780509999873149563, 4117876119636622007, 1538090670177930419], [15977320613530305179, 13780509999873149563, 4117876119636622007, 1538090670177930419], [15977320613530305179, 13780509999873149563, 4117876119636622007, 1538090670177930419], [15977320613530305179, 13780509999873149563, 4117876119636622007, 1538090670177930419], [15977320613530305179, 13780509999873149563, 4117876119636622007, 1538090670177930419], [15977320613530305179, 13780509999873149563, 4117876119636622007, 1538090670177930419], [15977320613530305179, 13780509999873149563, 4117876119636622007, 1538090670177930419], [15977320613530305179, 13780509999873149563, 4117876119636622007, 1538090670177930419], [15977320613530305179, 13780509999873149563, 4117876119636622007, 1538090670177930419], [15977320613530305179, 13780509999873149563, 4117876119636622007, 1538090670177930419], [15977320613530305179, 13780509999873149563, 4117876119636622007, 1538090670177930419], [15977320613530305179, 13780509999873149563, 4117876119636622007, 1538090670177930419], [15977320613530305179, 13780509999873149563, 4117876119636622007, 1538090670177930419], [15977320613530305179, 13780509999873149563, 4117876119636622007, 1538090670177930419], [15977320613530305179, 13780509999873149563, 4117876119636622007, 1538090670177930419], [15977320613530305179, 13780509999873149563, 4117876119636622007, 1538090670177930419], [15977320613530305179, 13780509999873149563, 4117876119636622007, 1538090670177930419], [15977320613530305179, 13780509999873149563, 4117876119636622007, 1538090670177930419], [15977320613530305179, 13780509999873149563, 4117876119636622007, 1538090670177930419], [15977320613530305179, 13780509999873149563, 4117876119636622007, 1538090670177930419], [15977320613530305179, 13780509999873149563, 4117876119636622007, 1538090670177930419], [15977320613530305179, 13780509999873149563, 4117876119636622007, 1538090670177930419], [15977320613530305179, 13780509999873149563, 4117876119636622007, 1538090670177930419], [15977320613530305179, 13780509999873149563, 4117876119636622007, 1538090670177930419], [15977320613530305179, 13780509999873149563, 4117876119636622007, 1538090670177930419], [15977320613530305179, 13780509999873149563, 4117876119636622007, 1538090670177930419], [15977320613530305179, 13780509999873149563, 4117876119636622007, 1538090670177930419], [15977320613530305179, 13780509999873149563, 4117876119636622007, 1538090670177930419], [15977320613530305179, 13780509999873149563, 4117876119636622007, 1538090670177930419], [15977320613530305179, 13780509999873149563, 4117876119636622007, 1538090670177930419]]], 'proof': '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', 'transcript_type': 'EVM'}\n"
     ]
    }
   ],
   "source": [
    "# GENERATE A PROOF\n",
    "\n",
    "\n",
    "proof_path = os.path.join('test.pf')\n",
    "\n",
    "res = ezkl.prove(\n",
    "        witness_path,\n",
    "        compiled_model_path,\n",
    "        pk_path,\n",
    "        proof_path,\n",
    "        srs_path,\n",
    "        \"single\",\n",
    "    )\n",
    "\n",
    "print(res)\n",
    "assert os.path.isfile(proof_path)"
   ]
  },
  {
   "cell_type": "code",
   "execution_count": 22,
   "id": "a2548b00",
   "metadata": {},
   "outputs": [
    {
     "name": "stdout",
     "output_type": "stream",
     "text": [
      "verified\n"
     ]
    }
   ],
   "source": [
    "# VERIFY IT\n",
    "\n",
    "res = ezkl.verify(\n",
    "        proof_path,\n",
    "        settings_path,\n",
    "        vk_path,\n",
    "        srs_path,\n",
    "    )\n",
    "\n",
    "assert res == True\n",
    "print(\"verified\")"
   ]
  }
 ],
 "metadata": {
  "kernelspec": {
   "display_name": "Python 3.11.4 ('.env': venv)",
   "language": "python",
   "name": "python3"
  },
  "language_info": {
   "codemirror_mode": {
    "name": "ipython",
    "version": 3
   },
   "file_extension": ".py",
   "mimetype": "text/x-python",
   "name": "python",
   "nbconvert_exporter": "python",
   "pygments_lexer": "ipython3",
   "version": "3.11.4"
  },
  "vscode": {
   "interpreter": {
    "hash": "af2b032f4d5a009ff33cd3ba5ac25dedfd7d71c9736fbe82aa90983ec2fc3628"
   }
  }
 },
 "nbformat": 4,
 "nbformat_minor": 5
}
